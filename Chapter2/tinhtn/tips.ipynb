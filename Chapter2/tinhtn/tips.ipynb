{
 "cells": [
  {
   "cell_type": "code",
   "execution_count": 10,
   "metadata": {
    "collapsed": true
   },
   "outputs": [
    {
     "name": "stdout",
     "output_type": "stream",
     "text": [
      "1\n",
      "xzw\n",
      "2\n",
      "abc\n",
      "3\n",
      "def\n",
      "[(1, 'xzw'), (2, 'abc'), (3, 'def')]\n"
     ]
    }
   ],
   "source": [
    "# Test Zip\n",
    "t1 = [1, 2, 3, 4]\n",
    "t2 = [\"xzw\", \"abc\", \"def\"]\n",
    "\n",
    "# Combine t1 & t2 as zip\n",
    "for a1, a2 in zip(t1, t2):\n",
    "    print(a1)\n",
    "    print(a2)\n",
    "    \n",
    "z_ = zip(t1, t2)\n",
    "print(list(z_))"
   ]
  },
  {
   "cell_type": "code",
   "execution_count": 6,
   "metadata": {},
   "outputs": [
    {
     "name": "stdout",
     "output_type": "stream",
     "text": [
      "['result_1', 'result_2', 'result_3', 'result_1', 'result_1', 'result_3', 'result_2', 'result_2']\n",
      "[-14, -12, -10, -8, -6, -4, -2, 0, 2, 4]\n"
     ]
    }
   ],
   "source": [
    "# Test lambda\n",
    "arr = [0, 1, 2, 0, 0, 2, 1, 1]\n",
    "value = [\"result_1\", \"result_2\", \"result_3\"]\n",
    "test = list(map(lambda x: value[x], arr))\n",
    "print(test)\n",
    "\n",
    "list_test = range(-15, 5)\n",
    "test = list(filter(lambda x: (x%2==0), list_test))\n",
    "print(test)"
   ]
  },
  {
   "cell_type": "code",
   "execution_count": 3,
   "metadata": {},
   "outputs": [
    {
     "name": "stdout",
     "output_type": "stream",
     "text": [
      "Mean:  3.0\n",
      "Variance:  2.5\n",
      "Standard deviation:  1.4142135623730951\n"
     ]
    }
   ],
   "source": [
    "import numpy as np\n",
    "\n",
    "arr = range(1, 6)\n",
    "# Mean\n",
    "print(\"Mean: \", np.mean(arr, dtype=np.float64))\n",
    "# Variance\n",
    "print(\"Variance: \", np.var(arr, ddof=1))\n",
    "#  Standard deviation\n",
    "print(\"Standard deviation: \", np.std(arr))"
   ]
  },
  {
   "cell_type": "code",
   "execution_count": null,
   "metadata": {},
   "outputs": [],
   "source": [
    "# Install graphviz by conda\n",
    "# conda install -c anaconda graphviz\n",
    "# conda install -c anaconda python-graphviz"
   ]
  },
  {
   "cell_type": "code",
   "execution_count": 20,
   "metadata": {},
   "outputs": [
    {
     "name": "stdout",
     "output_type": "stream",
     "text": [
      "(2, 2)\n",
      "(2, 1, 2)\n"
     ]
    }
   ],
   "source": [
    "arr = np.array([[1, 1],\n",
    "                [4, 1]])\n",
    "print(arr.shape)\n",
    "arr1 = arr[:, np.newaxis]\n",
    "print(arr1.shape)\n"
   ]
  },
  {
   "cell_type": "code",
   "execution_count": 4,
   "metadata": {},
   "outputs": [
    {
     "data": {
      "text/plain": [
       "[<matplotlib.lines.Line2D at 0x7fb28914e7f0>,\n",
       " <matplotlib.lines.Line2D at 0x7fb289103cf8>]"
      ]
     },
     "execution_count": 4,
     "metadata": {},
     "output_type": "execute_result"
    },
    {
     "data": {
      "image/png": "[encoded data removed]",
      "text/plain": [
       "<Figure size 432x288 with 1 Axes>"
      ]
     },
     "metadata": {
      "needs_background": "light"
     },
     "output_type": "display_data"
    }
   ],
   "source": [
    "# Visualize\n",
    "from sklearn.datasets import make_moons\n",
    "import mglearn\n",
    "import matplotlib.pyplot as plt \n",
    "\n",
    "X, y = make_moons(n_samples=120, noise=0.25, random_state=3)\n",
    "mglearn.discrete_scatter(X[:, 0], X[:, 1], y)"
   ]
  },
  {
   "cell_type": "code",
   "execution_count": null,
   "metadata": {},
   "outputs": [],
   "source": [
    "# Command convert file.dot to .png\n",
    "# dot -Tpng iris_tree.dot -o iris_tree.png"
   ]
  }
 ],
 "metadata": {
  "kernelspec": {
   "display_name": "Python 3",
   "language": "python",
   "name": "python3"
  },
  "language_info": {
   "codemirror_mode": {
    "name": "ipython",
    "version": 3
   },
   "file_extension": ".py",
   "mimetype": "text/x-python",
   "name": "python",
   "nbconvert_exporter": "python",
   "pygments_lexer": "ipython3",
   "version": "3.7.3"
  }
 },
 "nbformat": 4,
 "nbformat_minor": 2
}
