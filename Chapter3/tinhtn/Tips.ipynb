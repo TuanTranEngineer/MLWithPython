{
 "cells": [
  {
   "cell_type": "code",
   "execution_count": 5,
   "metadata": {},
   "outputs": [
    {
     "name": "stdout",
     "output_type": "stream",
     "text": [
      "Print the tupe object directly:\n",
      "(100, 'a')\n",
      "(101, 'b')\n",
      "(102, 'c')\n",
      "Print index and value separately:\n",
      "50 a\n",
      "51 b\n",
      "52 c\n"
     ]
    }
   ],
   "source": [
    "# enumerate\n",
    "l1 = ['a', 'b', 'c']\n",
    "\n",
    "print(\"Print the tupe object directly:\")\n",
    "for l in enumerate(l1, 100):\n",
    "    print(l)\n",
    "print(\"Print index and value separately:\")\n",
    "for count, l in enumerate(l1, 50):\n",
    "    print(count, l)"
   ]
  },
  {
   "cell_type": "code",
   "execution_count": 2,
   "metadata": {},
   "outputs": [
    {
     "name": "stdout",
     "output_type": "stream",
     "text": [
      "[1 2 3]\n"
     ]
    }
   ],
   "source": [
    "# Test unique in numpy\n",
    "import numpy as np\n",
    "\n",
    "arr = np.array([[1, 2, 3, 1, 2]])\n",
    "print(np.unique(arr))"
   ]
  },
  {
   "cell_type": "code",
   "execution_count": 7,
   "metadata": {},
   "outputs": [
    {
     "data": {
      "text/plain": [
       "array([1, 6])"
      ]
     },
     "execution_count": 7,
     "metadata": {},
     "output_type": "execute_result"
    }
   ],
   "source": [
    "# Test where function in numpy\n",
    "np.where([[True, False], [False, True]], [[1, 2], [3, 4]], [[5, 6], [7, 8]])[0][:2]"
   ]
  },
  {
   "cell_type": "code",
   "execution_count": null,
   "metadata": {},
   "outputs": [],
   "source": []
  }
 ],
 "metadata": {
  "kernelspec": {
   "display_name": "Python 3",
   "language": "python",
   "name": "python3"
  },
  "language_info": {
   "codemirror_mode": {
    "name": "ipython",
    "version": 3
   },
   "file_extension": ".py",
   "mimetype": "text/x-python",
   "name": "python",
   "nbconvert_exporter": "python",
   "pygments_lexer": "ipython3",
   "version": "3.7.3"
  }
 },
 "nbformat": 4,
 "nbformat_minor": 2
}
